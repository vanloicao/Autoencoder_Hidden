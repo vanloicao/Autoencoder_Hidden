{
 "cells": [
  {
   "cell_type": "code",
   "execution_count": 94,
   "metadata": {},
   "outputs": [],
   "source": [
    "import theano as th\n",
    "from theano import tensor as T\n",
    "from numpy import random as rng\n",
    "import numpy as np\n",
    "from sklearn.base import BaseEstimator\n",
    "from collections import OrderedDict\n",
    "from sklearn import preprocessing\n",
    "import matplotlib.pyplot as plt\n",
    "from sklearn.metrics import roc_curve, auc"
   ]
  },
  {
   "cell_type": "markdown",
   "metadata": {},
   "source": [
    "<h3>Define identify activation function</h3>"
   ]
  },
  {
   "cell_type": "code",
   "execution_count": 71,
   "metadata": {},
   "outputs": [],
   "source": [
    "def identity(x):\n",
    "    return x"
   ]
  },
  {
   "cell_type": "markdown",
   "metadata": {},
   "source": [
    "<h2>Definition Autoencoder class</h2>"
   ]
  },
  {
   "cell_type": "code",
   "execution_count": 105,
   "metadata": {},
   "outputs": [],
   "source": [
    "class AutoEncoder(BaseEstimator):\n",
    "\n",
    "    def __init__(self,\n",
    "                 input_size,\n",
    "                 hidden_size = 6,\n",
    "                 n_epochs=100,\n",
    "                 mini_batch_size=20,\n",
    "                 learning_rate=0.1,\n",
    "                 K = 1.0):\n",
    "\n",
    "        #Steepness parameter k for logistic function Sigmoid_ex\n",
    "        self.K = K\n",
    "        #Input_size is the same number of the input dimension, int.\n",
    "        self.input_size = input_size\n",
    "        #Hidden_size is the number of neurons in the hidden layer, int.\n",
    "        self.hidden_size = hidden_size\n",
    "\n",
    "        \n",
    "        #Create random seed for randomly generate Weight matrix\n",
    "        rng.seed(0)\n",
    "        initial_W = np.asarray(rng.uniform(\n",
    "                 low=-4 * np.sqrt(6. / (self.hidden_size + self.input_size)),\n",
    "                 high=4 * np.sqrt(6. / (self.hidden_size + self.input_size)),\n",
    "                 size=(self.input_size, self.hidden_size)), dtype=th.config.floatX)\n",
    "\n",
    "        self.W = th.shared(value=initial_W, name='W', borrow=True)\n",
    "        self.b1 = th.shared(name='b1', value=np.zeros(shape=(self.hidden_size,),\n",
    "                            dtype=th.config.floatX),borrow=True)\n",
    "        self.b2 = th.shared(name='b2', value=np.zeros(shape=(self.input_size,),\n",
    "                            dtype=th.config.floatX),borrow=True)\n",
    "        \n",
    "        self.n_epochs = n_epochs\n",
    "        self.mini_batch_size = mini_batch_size\n",
    "        self.learning_rate = learning_rate\n",
    "        \n",
    "        \n",
    "    \n",
    "    #%% Sigmoid function with steepness parameter K\n",
    "    def sigmoid_ex(self,x):\n",
    "        return 1.0/(1.0 + T.exp(-self.K*x))\n",
    "        #%% Fit data, define cost function and compute grad\n",
    "        \n",
    "        \n",
    "    #Optimizing loss function    \n",
    "    def fit(self, X):\n",
    "        self.activation_function = self.sigmoid_ex   #hidden activation = sigmoid\n",
    "        self.output_function = identity              #output activation = identity\n",
    "\n",
    "        #X is an numpy matrix, rows and cols correspond to datapoints and features.\n",
    "        #assert type(X) is np.ndarray\n",
    "        assert len(X.shape)==2\n",
    "        self.X = X                #Training set\n",
    "        self.X = th.shared(name='X', value=np.asarray(self.X,\n",
    "                         dtype=th.config.floatX),borrow=True)\n",
    "        # Wrap data in theano variable which is to get this to run fast on the gpu.\n",
    "        self.n = X.shape[1]    #Dimension\n",
    "        self.m = X.shape[0]    #Size of data\n",
    "\n",
    "        \"****************** Compute hidden and output data *******************\"\n",
    "        index = T.lscalar()\n",
    "        x=T.matrix('x')\n",
    "        \n",
    "        params = [self.W, self.b1, self.b2]  #List of parameters\n",
    "        #Hidden data\n",
    "        hidden = self.activation_function(T.dot(x, self.W)+self.b1)\n",
    "        #Reconstruction data at output layer\n",
    "        output = self.output_function(T.dot(hidden, T.transpose(self.W))+self.b2)\n",
    "\n",
    "        \"********************** Define cost function *************************\"\n",
    "        \"Use cross-entropy loss, suitable for binary data\"\n",
    "        #L = -T.sum(x*T.log(output) + (1-x)*T.log(1-output), axis=1)\n",
    "        #cost=T.mean(L)\n",
    "\n",
    "        \"MEAN-MSE is used in this work, for real-value data\"\n",
    "        cost = (((x - output)**2).mean(1)).mean()\n",
    "\n",
    "\n",
    "        \"*********** Update cost ******************\"\n",
    "        updates=[]\n",
    "        #Return gradient with respect to W, b1, b2.\n",
    "        gparams = T.grad(cost,params)\n",
    "\n",
    "        \"======ADAGRAD is used in this work =======\"\n",
    "        eps  = 1e-8\n",
    "        accugrads = [th.shared(name='accugrad', value=np.zeros(shape=param.shape.eval(),\n",
    "                            dtype=th.config.floatX),borrow=True) for param in params]\n",
    "        # compute list of weights updates\n",
    "        updates = OrderedDict()\n",
    "        for accugrad, param, gparam in zip(accugrads, params, gparams):\n",
    "            # c.f. Algorithm 1 in the Adadelta paper (Zeiler 2012)\n",
    "            agrad = accugrad + gparam * gparam\n",
    "            updates[param] = param - (self.learning_rate /(T.sqrt(agrad) + eps)) * gparam\n",
    "            updates[accugrad] = agrad\n",
    "        \"===========================================\"\n",
    "        \n",
    "        \n",
    "        fit = th.function(inputs=[index],\n",
    "                          outputs=[cost],\n",
    "                          updates=updates,\n",
    "                          givens={x:self.X[index:index+self.mini_batch_size,:]})\n",
    "        \n",
    "        re = 0  #reconstruction error after each epoch\n",
    "        RE = [] #An array storing all re during training process\n",
    "        for epoch in range(self.n_epochs):\n",
    "            for row in range(0,self.m, self.mini_batch_size):\n",
    "                re_batch = fit(row)\n",
    "                re = re + re_batch[0]\n",
    "                \n",
    "            re = re/self.n_epochs   \n",
    "            RE = np.append(RE, re)\n",
    "            #print(re)\n",
    "        RE = np.reshape(RE, (-1,1))    \n",
    "        return RE\n",
    "    \n",
    "    \n",
    "    #%% Get data from hidden layer\n",
    "    def get_hidden(self,data):\n",
    "        x=T.dmatrix('x')\n",
    "        hidden = self.activation_function(T.dot(x,self.W)+self.b1)\n",
    "        transformed_data = th.function(inputs=[x], outputs=[hidden])\n",
    "        return transformed_data(data)\n",
    "    \n",
    "    \n",
    "    \n",
    "    #%% Get data from the output layer\n",
    "    def get_output(self,data):\n",
    "        x = T.dmatrix('x')\n",
    "        hidden = self.activation_function(T.dot(x, self.W)+self.b1)\n",
    "        output = self.output_function(T.dot(hidden,T.transpose(self.W))+self.b2)\n",
    "        transformed_data = th.function(inputs = [x], outputs = [output])\n",
    "        return transformed_data(data)\n",
    "    \n",
    "    \n",
    "    \n",
    "    #%% Get parameter values\n",
    "    def get_weights(self):\n",
    "        return [self.W.get_value(), self.b1.get_value(), self.b2.get_value()]"
   ]
  },
  {
   "cell_type": "markdown",
   "metadata": {},
   "source": [
    "<h2>Load data</h2>"
   ]
  },
  {
   "cell_type": "code",
   "execution_count": 73,
   "metadata": {},
   "outputs": [],
   "source": [
    "def process_Data(dataset):\n",
    "    if (dataset == \"WBC\"):\n",
    "        d = np.genfromtxt(\"wobc.csv\", delimiter=\",\")\n",
    "        label_threshold = 2\n",
    "        # 9 attributes + 1 class[2 - benign(458); 4 - malignant(241)]\n",
    "    elif (dataset == \"WDBC\"):\n",
    "        d = np.genfromtxt(\"wdbc.csv\", delimiter=\",\")\n",
    "        label_threshold = 2\n",
    "        # 30 attributes + 1 class [2 - benign(357); 4 - malignant(212)]\n",
    "    elif (dataset == \"C-heart\"):\n",
    "        d = np.genfromtxt(\"C-heart.csv\", delimiter=\",\")\n",
    "        label_threshold = 0\n",
    "        # 13 attributes + 1 class [0 - Level0(164); level 1,2,3,4 - (139), 6 missing)\n",
    "    elif (dataset == \"ACA\"):\n",
    "        d = np.genfromtxt(\"australian.csv\", delimiter=\",\")\n",
    "        #Australia: 14 feature + 1 class [ 0 - 383, 1 - 307]\n",
    "        label_threshold = 0\n",
    "    else:\n",
    "        print(\"No dataset is chosen\")\n",
    "\n",
    "    \"*************************Chosing dataset*********************************\"\n",
    "\n",
    "    # discard the '?' values in wdbc\n",
    "    d = d[~np.isnan(d).any(axis=1)]\n",
    "\n",
    "    # shuffle\n",
    "    np.random.seed(0)\n",
    "    np.random.shuffle(d)\n",
    "\n",
    "    dX = d[:,0:-1]      # discard the first column (ids) and the last (labels)\n",
    "    dy = d[:,-1]\n",
    "\n",
    "    dy = dy >label_threshold   # dataset 1-(2,4), 2-(2,4), 3-(0,1,2,3,4), 4-(0, 1)\n",
    "\n",
    "    # separate into normal and anomaly\n",
    "    dX0 = dX[~dy]   # Normal data\n",
    "    dX1 = dX[dy]    # Anomaly data\n",
    "    dy0 = dy[~dy]   # Normal label\n",
    "    dy1 = dy[dy]    # Anomaly label\n",
    "\n",
    "    split = 0.8    #split 70% for training and 30% for testing\n",
    "    idx  = int(split * len(dX0))\n",
    "    idx1 = int(split* len(dX1))\n",
    "    # train_X contains only normal examples\n",
    "    train_X = dX0[:idx]\n",
    "\n",
    "    # test set is 30% of the normal class and 30% of anomaly class\n",
    "    test_X = np.concatenate((dX0[idx:], dX1[idx1:]))  # 30% of normal and 30% anomal data\n",
    "    test_y = np.concatenate((dy0[idx:], dy1[idx1:]))  # 30% of normal and 30% anomal labels\n",
    "\n",
    "    print(\"Normal: %d, Test normal: %d, Test anomaly: %d\" %(len(train_X), len(dX0)-len(train_X), len(dX1) - idx1))\n",
    "    \"\"\"We consider normal class and anomaly class are positive class and negative class\n",
    "    espectively. Thus, we put true label equal 1 for normal and 0 for anomly examples\n",
    "    in testing set. The roc_curve function will calculate FPR and TPR based on moving\n",
    "    a threshold from high prediction values to low prediction values\"\"\"\n",
    "    test_y = (~test_y).astype(np.int)\n",
    "\n",
    "    return train_X, test_X, test_y"
   ]
  },
  {
   "cell_type": "markdown",
   "metadata": {},
   "source": [
    "<H2>Plot RE curce</H2>"
   ]
  },
  {
   "cell_type": "code",
   "execution_count": 88,
   "metadata": {},
   "outputs": [],
   "source": [
    "def Plotting_RE(RE, ymin, ymax):\n",
    "    \"\"\"Plotting RE during training process\"\"\"\n",
    "\n",
    "    plt.figure(figsize=(6,3))\n",
    "    plt.title('RE on training', fontsize=16)\n",
    "\n",
    "    x = np.indices((len(RE),1))\n",
    "    \n",
    "    plt.xlim([0.0, len(RE) + 1.0])\n",
    "    plt.ylim([ymin,ymax])\n",
    "\n",
    "    plt.plot(x[0], RE,  'b', label = 'Recon error')\n",
    "    plt.legend(loc='upper right')\n",
    "    plt.ylabel('RE', fontsize=14)\n",
    "    plt.xlabel('Epochs', fontsize=14)\n",
    "    plt.show()"
   ]
  },
  {
   "cell_type": "markdown",
   "metadata": {},
   "source": [
    "<h2>Training Autoencode</h2>"
   ]
  },
  {
   "cell_type": "code",
   "execution_count": 92,
   "metadata": {},
   "outputs": [
    {
     "name": "stdout",
     "output_type": "stream",
     "text": [
      "Normal: 355, Test normal: 89, Test anomaly: 48\n",
      "[[ 0.47547411  0.43118054  0.40241388  0.38106091  0.3638887   0.34947302\n",
      "   0.33703866  0.3261088   0.31636604  0.30758698  0.29960766  0.29230381\n",
      "   0.28557873  0.27935555  0.27357203  0.26817695  0.2631276   0.25838788\n",
      "   0.25392701  0.24971845  0.24573917  0.24196903  0.23839034  0.23498746\n",
      "   0.23174652  0.22865515  0.22570232  0.2228781   0.22017359  0.21758072\n",
      "   0.21509221  0.21270144  0.21040238  0.20818954  0.20605786  0.20400274\n",
      "   0.20201993  0.2001055   0.19825585  0.19646763  0.19473774  0.19306329\n",
      "   0.1914416   0.18987016  0.18834665  0.18686888  0.18543481  0.18404252\n",
      "   0.1826902   0.18137617  0.18009882  0.17885667  0.17764828  0.17647232\n",
      "   0.17532753  0.1742127   0.17312669  0.17206844  0.17103692  0.17003116\n",
      "   0.16905023  0.16809326  0.1671594   0.16624787  0.16535789  0.16448875\n",
      "   0.16363975  0.16281024  0.16199956  0.16120713  0.16043236  0.1596747\n",
      "   0.15893361  0.15820858  0.15749912  0.15680477  0.15612507  0.15545958\n",
      "   0.1548079   0.15416962  0.15354435  0.15293173  0.1523314   0.15174301\n",
      "   0.15116623  0.15060074  0.15004623  0.14950241  0.14896899  0.1484457\n",
      "   0.14793225  0.14742841  0.14693391  0.14644852  0.145972    0.14550412\n",
      "   0.14504468  0.14459346  0.14415024  0.14371485]]\n"
     ]
    },
    {
     "data": {
      "image/png": "[encoded data removed]",
      "text/plain": [
       "<Figure size 432x216 with 1 Axes>"
      ]
     },
     "metadata": {},
     "output_type": "display_data"
    }
   ],
   "source": [
    "train_X, test_X, test_y = process_Data(\"WBC\")     \n",
    "\n",
    "#Normalize data using standard scaler\n",
    "scaler = preprocessing.StandardScaler()\n",
    "scaler.fit(train_X)\n",
    "train_X_scale = scaler.transform(train_X)\n",
    "test_X_scale  = scaler.transform(test_X)\n",
    "\n",
    "\n",
    "input_size  = train_X_scale.shape[1]\n",
    "h_size      = (np.sqrt(input_size)).astype(np.int) + 1\n",
    "epoch       = 100\n",
    "l_rate      = 0.01\n",
    "k           = 1.0 \n",
    "\n",
    "\n",
    "#create an AE object\n",
    "AE = AutoEncoder(input_size          = input_size,\n",
    "                     hidden_size     = h_size,\n",
    "                     n_epochs        = epoch,\n",
    "                     learning_rate   = l_rate,\n",
    "                     K               = k)\n",
    "\n",
    "\n",
    "RE = AE.fit(train_X_scale)\n",
    "print(np.reshape(RE, (1,-1)))\n",
    "Plotting_RE(re, 0, 0.6)"
   ]
  },
  {
   "cell_type": "markdown",
   "metadata": {},
   "source": [
    "<h2>BUild RE-based classifier</h2>"
   ]
  },
  {
   "cell_type": "code",
   "execution_count": 98,
   "metadata": {},
   "outputs": [
    {
     "name": "stdout",
     "output_type": "stream",
     "text": [
      "AUC: 0.993\n"
     ]
    }
   ],
   "source": [
    "#get reconstruction of train_X and test_X\n",
    "output_train  = AE.get_output(train_X_scale)\n",
    "output_test   = AE.get_output(test_X_scale)\n",
    "\n",
    "\n",
    "#*************** RE on each example *************\"\n",
    "RE_MSE = (((test_X - output_test[0])**2).mean(1))\n",
    "\n",
    "\"\"\"RE (MSE) between output and input is used as anomalous score.\n",
    "We put minus \"-\" to RE_MSE to for computing FPR and TPR using roc_curve\"\"\"\n",
    "\n",
    "predictions_auto = -RE_MSE\n",
    "FPR_ae, TPR_ae, thresholds_auto = roc_curve(actual, predictions_auto)\n",
    "auc_ae = auc(FPR_ae, TPR_ae)\n",
    "print('AUC: %0.3f' %auc_ae)"
   ]
  },
  {
   "cell_type": "markdown",
   "metadata": {},
   "source": [
    "<h2>View hidden data</h2>"
   ]
  },
  {
   "cell_type": "code",
   "execution_count": 103,
   "metadata": {},
   "outputs": [
    {
     "data": {
      "text/plain": [
       "[array([[  9.97471694e-01,   6.31840466e-01,   2.27169507e-01,\n",
       "           4.39930227e-01],\n",
       "        [  1.05567409e-01,   1.81869694e-01,   5.98294382e-01,\n",
       "           1.36315074e-01],\n",
       "        [  3.15864019e-01,   5.50997146e-02,   7.45718965e-01,\n",
       "           2.72828647e-02],\n",
       "        ..., \n",
       "        [  8.22807772e-01,   1.73545157e-01,   9.68849142e-01,\n",
       "           4.15882249e-02],\n",
       "        [  3.28515508e-01,   7.22174854e-02,   8.12727617e-02,\n",
       "           9.99998838e-01],\n",
       "        [  6.43735239e-01,   9.83542410e-01,   2.26634330e-01,\n",
       "           9.28505195e-04]])]"
      ]
     },
     "execution_count": 103,
     "metadata": {},
     "output_type": "execute_result"
    }
   ],
   "source": [
    "#get hidden data of train_X and test_X\n",
    "train_z  = AE.get_hidden(train_X_scale)\n",
    "test_z   = AE.get_hidden(test_X_scale)\n",
    "\n",
    "train_z"
   ]
  }
 ],
 "metadata": {
  "kernelspec": {
   "display_name": "Python 3",
   "language": "python",
   "name": "python3"
  },
  "language_info": {
   "codemirror_mode": {
    "name": "ipython",
    "version": 3
   },
   "file_extension": ".py",
   "mimetype": "text/x-python",
   "name": "python",
   "nbconvert_exporter": "python",
   "pygments_lexer": "ipython3",
   "version": "3.6.5"
  }
 },
 "nbformat": 4,
 "nbformat_minor": 2
}
